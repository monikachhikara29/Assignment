{
 "cells": [
  {
   "cell_type": "raw",
   "metadata": {},
   "source": [
    "1.1 Write a Python Program to implement your own myreduce() function which works exactly like Python's built-in function reduce() "
   ]
  },
  {
   "cell_type": "code",
   "execution_count": 2,
   "metadata": {},
   "outputs": [
    {
     "name": "stdout",
     "output_type": "stream",
     "text": [
      "I love python\n",
      "21\n",
      "31\n",
      "720\n"
     ]
    }
   ],
   "source": [
    "def my_reduce(func , arr, init_val= None):\n",
    "    result = init_val if init_val != None else arr[0]\n",
    "    range_start = 0 if init_val != None else 1\n",
    "    for index in range(range_start,len(arr)):\n",
    "        result = func(result,arr[index])\n",
    "    return result\n",
    "\n",
    "strlist=['I ', 'love ', 'python']\n",
    "r = my_reduce(lambda x,y: x+y ,strlist)\n",
    "print(r)\n",
    "\n",
    "numbers = [1,2,3,4,5,6]\n",
    "result = my_reduce(lambda x,y: x+y ,numbers)\n",
    "print(result)\n",
    "\n",
    "result = my_reduce(lambda x,y: x+y ,numbers,10)\n",
    "print(result)\n",
    "\n",
    "def multipy(x,y):\n",
    "    return x*y\n",
    "\n",
    "product = my_reduce(multipy,numbers)\n",
    "print(product)\n"
   ]
  },
  {
   "cell_type": "raw",
   "metadata": {},
   "source": [
    "1.2 Write a Python program to implement your own myfilter() function which works exactly like Python's built-in function filter() "
   ]
  },
  {
   "cell_type": "code",
   "execution_count": 3,
   "metadata": {},
   "outputs": [
    {
     "data": {
      "text/plain": [
       "[2, 4, 6, 8]"
      ]
     },
     "execution_count": 3,
     "metadata": {},
     "output_type": "execute_result"
    }
   ],
   "source": [
    "def my_filter(operation,arr):\n",
    "    result = []\n",
    "    for ele in arr:\n",
    "        r = operation(ele)\n",
    "        if r== True:\n",
    "            result.append(ele)\n",
    "    return result\n",
    "    \n",
    "    \n",
    "lst =[1,2,3,4,5,6,7,8]\n",
    "\n",
    "def even_check(num):\n",
    "    if num%2 ==0:\n",
    "        return True\n",
    "my_filter(even_check,lst)"
   ]
  },
  {
   "cell_type": "raw",
   "metadata": {},
   "source": [
    "1.3 Implement List comprehensions to produce the following lists. \n",
    " \n",
    "Write List comprehensions to produce the following Lists \n",
    " \n",
    "['A', 'C', 'A', 'D', 'G', 'I', ’L’, ‘ D’] \n",
    " \n",
    "['x', 'xx', 'xxx', 'xxxx', 'y', 'yy', 'yyy', 'yyyy', 'z', 'zz', 'zzz', 'zzzz'] \n",
    " \n",
    "['x', 'y', 'z', 'xx', 'yy', 'zz','xxx', 'yyy', 'zzz', 'xxxx', 'yyyy', 'zzzz'] \n",
    " \n",
    "[[2], [3], [4], [3], [4], [5], [4], [5], [6]] \n",
    " \n",
    "[[2, 3, 4, 5], [3, 4, 5, 6], [4, 5, 6, 7], [5, 6, 7, 8]] \n",
    " \n",
    "[(1, 1), (2, 1), (3, 1), (1, 2), (2, 2), (3, 2), (1, 3), (2, 3), (3, 3)] "
   ]
  },
  {
   "cell_type": "code",
   "execution_count": 4,
   "metadata": {},
   "outputs": [
    {
     "name": "stdout",
     "output_type": "stream",
     "text": [
      "['A', 'C', 'A', 'D', 'I', 'L', 'D']\n",
      "['x', 'xx', 'xxx', 'xxxx', 'y', 'yy', 'yyy', 'yyyy', 'z', 'zz', 'zzz', 'zzzz']\n",
      "['x', 'y', 'z', 'xx', 'yy', 'zz', 'xxx', 'yyy', 'zzz', 'xxxx', 'yyyy', 'zzzz']\n",
      "[[2], [3], [4], [3], [4], [5], [4], [5], [6]]\n",
      "[[2, 3, 4, 5], [3, 4, 5, 6], [4, 5, 6, 7], [5, 6, 7, 8]]\n",
      "[(1, 1), (2, 1), (3, 1), (1, 2), (2, 2), (3, 2), (1, 3), (2, 3), (3, 3)]\n"
     ]
    }
   ],
   "source": [
    "l1 = ['a','c','a','d','i','l','d']\n",
    "\n",
    "l1 = [ele.upper() for ele in l1]\n",
    "print(l1)\n",
    "\n",
    "l2 = ['x','y','z'] \n",
    "\n",
    "l3 = [ele*i for ele in l2 for i in range(1,5)]\n",
    "print(l3)\n",
    "\n",
    "l2 = [ele*i for i in range(1,5) for ele in l2]\n",
    "print(l2)\n",
    "\n",
    "l4 = [2,3,4]\n",
    "l4 = [[ele+i] for ele in l4 for i in range(0,3)]\n",
    "print(l4)\n",
    "\n",
    "l5 = [2,3,4,5]\n",
    "l5 = [[ele +i for ele in l5] for i in range(0,4)]\n",
    "print(l5)\n",
    "\n",
    "l6 = [1,2,3]\n",
    "l6 = [(i,ele) for ele in l6 for i in range(1,4) ]\n",
    "print(l6)\n"
   ]
  },
  {
   "cell_type": "raw",
   "metadata": {},
   "source": [
    "1.4 Implement a function longestWord() that takes a list of words and returns the longest one. "
   ]
  },
  {
   "cell_type": "code",
   "execution_count": 5,
   "metadata": {},
   "outputs": [
    {
     "name": "stdout",
     "output_type": "stream",
     "text": [
      "longest word is dhfsdhf\n"
     ]
    }
   ],
   "source": [
    "def longestword(l):\n",
    "    word_len = 0\n",
    "    for i in range(0,len(l)):\n",
    "        if word_len < len(l[i]):\n",
    "            word_len = len(l[i])\n",
    "            word = l[i]\n",
    "    if word_len == 0:\n",
    "        print(\"you have provided an empty list\")\n",
    "    else:\n",
    "         print(\"longest word is {}\".format(word))\n",
    "            \n",
    "longestword([\"dhihd\",\"jds\",\"dhfsdhf\",\"ddsd\"])\n"
   ]
  },
  {
   "cell_type": "raw",
   "metadata": {},
   "source": [
    "1.5 Write a Python Program(with class concepts) to find the area of the triangle using the below formula. \n",
    " \n",
    "area = (s*(s-a)*(s-b)*(s-c)) ** 0.5 \n",
    "\n",
    "Function to take the length of the sides of triangle from user should be defined in the parent class and function to calculate the area should be defined in subclass. "
   ]
  },
  {
   "cell_type": "code",
   "execution_count": 26,
   "metadata": {},
   "outputs": [
    {
     "name": "stdout",
     "output_type": "stream",
     "text": [
      "Enter the value of a = 23\n",
      "Enter the value of b = 23\n",
      "Enter the value of c = 2\n",
      "area : 22.978250586152114\n"
     ]
    }
   ],
   "source": [
    "class Triangle:\n",
    "    def __init__(self,a,b,c):\n",
    "        self.a = int(a)\n",
    "        self.b = int(b)\n",
    "        self.c = int(c)\n",
    "\n",
    "class TriangleArea(Triangle):\n",
    "    def calculate(self):\n",
    "        s=(self.a + self.b + self.c)/2\n",
    "        return ((s*(s-self.a)*(s-self.b)*(s-self.c))**0.5)\n",
    "    \n",
    "a=input(\"Enter the value of a = \")\n",
    "b=input(\"Enter the value of b = \")\n",
    "c=input(\"Enter the value of c = \")\n",
    "t = TriangleArea(a, b, c)\n",
    "print(\"area : {}\".format(t.calculate()))    "
   ]
  },
  {
   "cell_type": "markdown",
   "metadata": {},
   "source": [
    "1.6 Write a function filter_long_words() that takes a list of words and an integer n and returns the list of words that are longer than n. "
   ]
  },
  {
   "cell_type": "code",
   "execution_count": 7,
   "metadata": {},
   "outputs": [
    {
     "name": "stdout",
     "output_type": "stream",
     "text": [
      "['sdfv', 'fhusds', 'fhhdhdhhd']\n"
     ]
    }
   ],
   "source": [
    "def filter_long_words(l,n):\n",
    "    result = []\n",
    "    for ele in l:\n",
    "        if len(ele)> n:\n",
    "            result.append(ele)\n",
    "    return result\n",
    "\n",
    "lst = filter_long_words([\"sdfv\",\"fhusds\",\"ffs\",\"fhhdhdhhd\",\"ds\"],3)\n",
    "print(lst)"
   ]
  },
  {
   "cell_type": "raw",
   "metadata": {},
   "source": [
    "1.7 Write a Python program using function concept that maps  list of words into a list of integers representing the lengths of the corresponding words.\n",
    "\n",
    " Hint: If a list [ ab,cde,erty] is passed on to the python function output should come as [2,3,4] \n",
    " Here 2,3 and 4 are the lengths of the words in the list. "
   ]
  },
  {
   "cell_type": "code",
   "execution_count": 9,
   "metadata": {},
   "outputs": [
    {
     "data": {
      "text/plain": [
       "[5, 2, 7, 4]"
      ]
     },
     "execution_count": 9,
     "metadata": {},
     "output_type": "execute_result"
    }
   ],
   "source": [
    "def words_to_integer(ele):\n",
    "    return len(ele)\n",
    "    \n",
    "l = [\"sjdjc\",\"de\",\"edhdsij\",\"djsd\"]\n",
    "list(map(words_to_integer,l))"
   ]
  },
  {
   "cell_type": "code",
   "execution_count": null,
   "metadata": {},
   "outputs": [],
   "source": [
    "1.8 Write a Python function which takes a character (i.e. a string of length 1) and returns True if it is a vowel,\n",
    "False otherwise. "
   ]
  },
  {
   "cell_type": "code",
   "execution_count": 13,
   "metadata": {},
   "outputs": [
    {
     "data": {
      "text/plain": [
       "False"
      ]
     },
     "execution_count": 13,
     "metadata": {},
     "output_type": "execute_result"
    }
   ],
   "source": [
    "def check_vowel(ch):\n",
    "    vowels = \"aeiou\"\n",
    "    return ch in vowels\n",
    "\n",
    "check_vowel('s')"
   ]
  }
 ],
 "metadata": {
  "kernelspec": {
   "display_name": "Python 3",
   "language": "python",
   "name": "python3"
  },
  "language_info": {
   "codemirror_mode": {
    "name": "ipython",
    "version": 3
   },
   "file_extension": ".py",
   "mimetype": "text/x-python",
   "name": "python",
   "nbconvert_exporter": "python",
   "pygments_lexer": "ipython3",
   "version": "3.6.5"
  }
 },
 "nbformat": 4,
 "nbformat_minor": 2
}
