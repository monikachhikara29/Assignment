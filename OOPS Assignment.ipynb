{
 "cells": [
  {
   "cell_type": "code",
   "execution_count": 16,
   "metadata": {},
   "outputs": [],
   "source": [
    "class A: \n",
    "    def test(self):\n",
    "        print(\"this is test function of class A\")\n",
    "class B:\n",
    "    def test(self):\n",
    "        print(\"this is the test function of class B\")\n",
    "        \n",
    "class C(A,B):\n",
    "    def test(self):\n",
    "        print(\"this is the test function of class C\")\n",
    "        super().test()\n",
    "        B.test(self)\n",
    "        "
   ]
  },
  {
   "cell_type": "code",
   "execution_count": 17,
   "metadata": {},
   "outputs": [
    {
     "name": "stdout",
     "output_type": "stream",
     "text": [
      "this is the test function of class C\n",
      "this is test function of class A\n",
      "this is the test function of class B\n"
     ]
    }
   ],
   "source": [
    "obj = C()\n",
    "obj.test()"
   ]
  },
  {
   "cell_type": "code",
   "execution_count": 18,
   "metadata": {},
   "outputs": [
    {
     "name": "stdout",
     "output_type": "stream",
     "text": [
      "this is the test function of class B\n"
     ]
    }
   ],
   "source": [
    "B.test(obj)"
   ]
  }
 ],
 "metadata": {
  "kernelspec": {
   "display_name": "Python 3",
   "language": "python",
   "name": "python3"
  },
  "language_info": {
   "codemirror_mode": {
    "name": "ipython",
    "version": 3
   },
   "file_extension": ".py",
   "mimetype": "text/x-python",
   "name": "python",
   "nbconvert_exporter": "python",
   "pygments_lexer": "ipython3",
   "version": "3.6.5"
  }
 },
 "nbformat": 4,
 "nbformat_minor": 2
}
